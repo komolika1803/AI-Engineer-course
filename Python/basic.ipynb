{
 "cells": [
  {
   "cell_type": "code",
   "execution_count": 3,
   "metadata": {},
   "outputs": [
    {
     "name": "stdout",
     "output_type": "stream",
     "text": [
      "hello\n"
     ]
    }
   ],
   "source": [
    "print(\"hello\")\n",
    "#single line comment\n"
   ]
  },
  {
   "cell_type": "code",
   "execution_count": null,
   "metadata": {},
   "outputs": [
    {
     "name": "stdout",
     "output_type": "stream",
     "text": [
      "Hello World\n"
     ]
    }
   ],
   "source": [
    "if True:\n",
    "    print(\"Hello World\")\n",
    "else:\n",
    "    print(\"Goodbye World\")\n",
    "\n",
    "    '''This is a multi-line comment'\n",
    "    we can write multiple lines of comments here'''"
   ]
  },
  {
   "cell_type": "code",
   "execution_count": 5,
   "metadata": {},
   "outputs": [
    {
     "name": "stdout",
     "output_type": "stream",
     "text": [
      "<class 'str'>\n"
     ]
    }
   ],
   "source": [
    "a=\"Hello World\"\n",
    "print(type(a))"
   ]
  },
  {
   "cell_type": "code",
   "execution_count": 6,
   "metadata": {},
   "outputs": [
    {
     "name": "stdout",
     "output_type": "stream",
     "text": [
      "Komolika\n"
     ]
    }
   ],
   "source": [
    "name=\"Komolika\"\n",
    "print(name)"
   ]
  },
  {
   "cell_type": "code",
   "execution_count": 7,
   "metadata": {},
   "outputs": [
    {
     "name": "stdout",
     "output_type": "stream",
     "text": [
      "you are an adult\n"
     ]
    }
   ],
   "source": [
    "age=20\n",
    "if age<18:\n",
    "    print(\"you are a minor\")\n",
    "elif age>=18 and age<65:\n",
    "    print(\"you are an adult\")\n",
    "else:\n",
    "    print(\"you are a senior\")"
   ]
  },
  {
   "cell_type": "code",
   "execution_count": 8,
   "metadata": {},
   "outputs": [
    {
     "name": "stdout",
     "output_type": "stream",
     "text": [
      "AND Operation (a and b): False\n",
      "OR Operation (a or b): True\n",
      "NOT Operation (not a): False\n",
      "NOT Operation (not b): True\n",
      "Combined Logical Operation ((a and not b) or (not a and b)): True\n"
     ]
    }
   ],
   "source": [
    "# Logical Operations in Python\n",
    "\n",
    "# Define two Boolean variables\n",
    "a = True\n",
    "b = False\n",
    "\n",
    "# Logical AND\n",
    "and_result = a and b\n",
    "print(\"AND Operation (a and b):\", and_result)\n",
    "\n",
    "# Logical OR\n",
    "or_result = a or b\n",
    "print(\"OR Operation (a or b):\", or_result)\n",
    "\n",
    "# Logical NOT\n",
    "not_a = not a\n",
    "not_b = not b\n",
    "print(\"NOT Operation (not a):\", not_a)\n",
    "print(\"NOT Operation (not b):\", not_b)\n",
    "\n",
    "# Combining all operations\n",
    "combined = (a and not b) or (not a and b)\n",
    "print(\"Combined Logical Operation ((a and not b) or (not a and b)):\", combined)\n"
   ]
  }
 ],
 "metadata": {
  "kernelspec": {
   "display_name": "Python 3",
   "language": "python",
   "name": "python3"
  },
  "language_info": {
   "codemirror_mode": {
    "name": "ipython",
    "version": 3
   },
   "file_extension": ".py",
   "mimetype": "text/x-python",
   "name": "python",
   "nbconvert_exporter": "python",
   "pygments_lexer": "ipython3",
   "version": "3.13.2"
  }
 },
 "nbformat": 4,
 "nbformat_minor": 2
}
